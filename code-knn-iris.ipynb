{
 "cells": [
  {
   "cell_type": "code",
   "execution_count": null,
   "metadata": {},
   "outputs": [],
   "source": [
    "!pip install pandas\n",
    "!pip install sklearn\n",
    "!pip install math"
   ]
  },
  {
   "cell_type": "code",
   "execution_count": 2,
   "metadata": {},
   "outputs": [],
   "source": [
    "#Importação dos dados:\n",
    "\n",
    "import pandas as pd\n",
    "from sklearn.model_selection import train_test_split\n",
    "from sklearn.neighbors import KNeighborsClassifier\n",
    "from sklearn.metrics import accuracy_score\n",
    "from scipy.spatial import distance\n",
    "import numpy as np\n",
    "import math"
   ]
  },
  {
   "cell_type": "code",
   "execution_count": 3,
   "metadata": {},
   "outputs": [
    {
     "name": "stdout",
     "output_type": "stream",
     "text": [
      "     sepal length  sepal width  petal length  petal width           class\n",
      "0             5.1          3.5           1.4          0.2     Iris-setosa\n",
      "1             4.9          3.0           1.4          0.2     Iris-setosa\n",
      "2             4.7          3.2           1.3          0.2     Iris-setosa\n",
      "3             4.6          3.1           1.5          0.2     Iris-setosa\n",
      "4             5.0          3.6           1.4          0.2     Iris-setosa\n",
      "..            ...          ...           ...          ...             ...\n",
      "145           6.7          3.0           5.2          2.3  Iris-virginica\n",
      "146           6.3          2.5           5.0          1.9  Iris-virginica\n",
      "147           6.5          3.0           5.2          2.0  Iris-virginica\n",
      "148           6.2          3.4           5.4          2.3  Iris-virginica\n",
      "149           5.9          3.0           5.1          1.8  Iris-virginica\n",
      "\n",
      "[150 rows x 5 columns]\n",
      "(112, 4) (38, 4)\n",
      "Quantidade de vizinhos:  1\n",
      "Acurária do KNN Scikit Learn:  92.10526315789474\n",
      "A acurácia do KNN próprio é de:  92.10526315789474\n",
      "Quantidade de vizinhos:  3\n",
      "Acurária do KNN Scikit Learn:  94.73684210526315\n",
      "A acurácia do KNN próprio é de:  94.73684210526315\n",
      "Quantidade de vizinhos:  5\n",
      "Acurária do KNN Scikit Learn:  94.73684210526315\n",
      "A acurácia do KNN próprio é de:  94.73684210526315\n",
      "Quantidade de vizinhos:  7\n",
      "Acurária do KNN Scikit Learn:  92.10526315789474\n",
      "A acurácia do KNN próprio é de:  92.10526315789474\n",
      "Quantidade de vizinhos:  9\n",
      "Acurária do KNN Scikit Learn:  94.73684210526315\n",
      "A acurácia do KNN próprio é de:  94.73684210526315\n"
     ]
    }
   ],
   "source": [
    "#Importação dos dados:\n",
    "dados = pd.read_csv( \"https://raw.githubusercontent.com/JosenildoVicente/KNN_Iris/main/iris.csv\", encoding=\"ISO-8859-1\" )\n",
    "\n",
    "print(dados)\n",
    "\n",
    "#Normalização dos dados:\n",
    "dados['sepal length'] = (dados['sepal length'] - min(dados['sepal length']))/(max(dados['sepal length']) - min(dados['sepal length']))\n",
    "dados['sepal width'] = (dados['sepal width'] - min(dados['sepal width']))/(max(dados['sepal width']) - min(dados['sepal width']))\n",
    "dados['petal length'] = (dados['petal length'] - min(dados['petal length']))/(max(dados['petal length']) - min(dados['petal length']))\n",
    "dados['petal width'] = (dados['petal width'] - min(dados['petal width']))/(max(dados['petal width']) - min(dados['petal width']))\n",
    "\n",
    "#Separação em dados de treino e de teste:\n",
    "x_treino, x_teste, y_treino, y_teste = train_test_split(dados.drop('class',axis=1),dados['class'],test_size=0.25, stratify=dados['class'])\n",
    "print(x_treino.shape,x_teste.shape)\n",
    "\n",
    "#Quantidade de vizinhos\n",
    "Ks = [1, 3, 5, 7, 9]\n",
    "for K in Ks:\n",
    "    print(\"Quantidade de vizinhos: \", K)\n",
    "    #KNN Scikit Learn\n",
    "\n",
    "    #Treinamento\n",
    "    modelo = KNeighborsClassifier(n_neighbors=K, weights='uniform')\n",
    "    modelo.fit(x_treino, y_treino)\n",
    "    #Teste\n",
    "    y_modelo = modelo.predict(x_teste)\n",
    "    #Acurácia\n",
    "    acuracia_Knn = accuracy_score(y_modelo, y_teste)\n",
    "    acuracia_Knn = acuracia_Knn * 100\n",
    "    print(\"Acurária do KNN Scikit Learn: \", acuracia_Knn)\n",
    "\n",
    "\n",
    "    #KNN Próprio\n",
    "\n",
    "    tamanho_treino = len(x_treino)\n",
    "    tamanho_teste = len(y_teste)\n",
    "\n",
    "    #Definir a qual classe a amostra pertence\n",
    "    def classe_modelo(numero):\n",
    "        if numero == 0:\n",
    "            return 'Iris-setosa'\n",
    "        elif numero == 2:\n",
    "            return 'Iris-virginica'\n",
    "        else:\n",
    "            return 'Iris-versicolor'\n",
    "\n",
    "    y_modelo = []\n",
    "    for indice_teste in x_teste.index:\n",
    "        dists = {}\n",
    "        ind = 0\n",
    "\n",
    "        #Calcular as distâncias da amostra(teste) para os de treino(vizinhos)\n",
    "        for indice_treino in x_treino.index:\n",
    "            d = distance.euclidean(x_treino.loc[indice_treino],x_teste.loc[indice_teste])\n",
    "            dists[ind] = [d,indice_treino]\n",
    "            ind+=1\n",
    "        k_vizinhos = sorted(dists, key= dists.get)[:K]\n",
    "\n",
    "        indice_vizinhos = []\n",
    "        for j in k_vizinhos:\n",
    "            indice_vizinhos.append(dists[j][1])\n",
    "\n",
    "        #Definir quantos vizinhos pertencem à cada classe\n",
    "        qtd_set = 0\n",
    "        qtd_vers = 0\n",
    "        qtd_virg = 0\n",
    "        for ind_vizinho in indice_vizinhos:\n",
    "            if y_treino.loc[ind_vizinho] == 'Iris-setosa':\n",
    "                qtd_set += 1\n",
    "            elif y_treino.loc[ind_vizinho] == 'Iris-versicolor':\n",
    "                qtd_vers += 1\n",
    "            else:\n",
    "                qtd_virg += 1\n",
    "\n",
    "        #Definição da classe da amostra\n",
    "        a=[qtd_set, qtd_vers, qtd_virg]\n",
    "        num = a.index(max(a))\n",
    "        y_modelo.append(classe_modelo(num))\n",
    "\n",
    "    ind = 0\n",
    "    qtd_acertos = 0\n",
    "    for i in y_teste:\n",
    "    #print(i, y_modelo[ind])\n",
    "        if y_modelo[ind] == i:\n",
    "            qtd_acertos += 1\n",
    "        ind += 1\n",
    "    #print(qtd_acertos)\n",
    "    acuracia_knnProprio = (qtd_acertos / tamanho_teste)*100\n",
    "    #print(acuracia_knnProprio)\n",
    "    print(\"A acurácia do KNN próprio é de: \", acuracia_knnProprio)"
   ]
  },
  {
   "cell_type": "code",
   "execution_count": 4,
   "metadata": {},
   "outputs": [],
   "source": [
    "# import pandas as pd\n",
    "# from sklearn.model_selection import train_test_split\n",
    "# from sklearn.neighbors import KNeighborsClassifier\n",
    "# from sklearn.metrics import accuracy_score\n",
    "# import numpy as np\n",
    "# import math"
   ]
  },
  {
   "cell_type": "code",
   "execution_count": 5,
   "metadata": {},
   "outputs": [],
   "source": [
    "# dados = pd.read_csv( \"https://raw.githubusercontent.com/JosenildoVicente/KNN_Iris/main/iris.csv\", encoding=\"ISO-8859-1\" )"
   ]
  },
  {
   "cell_type": "code",
   "execution_count": 6,
   "metadata": {},
   "outputs": [],
   "source": [
    "# dados.info()"
   ]
  },
  {
   "cell_type": "markdown",
   "metadata": {},
   "source": [
    "# Normalização dos dados"
   ]
  },
  {
   "cell_type": "code",
   "execution_count": 7,
   "metadata": {},
   "outputs": [],
   "source": [
    "# dados['sepal length'] = (dados['sepal length'] - min(dados['sepal length']))/(max(dados['sepal length']) - min(dados['sepal length']))"
   ]
  },
  {
   "cell_type": "code",
   "execution_count": 8,
   "metadata": {},
   "outputs": [],
   "source": [
    "# dados['sepal width'] = (dados['sepal width'] - min(dados['sepal width']))/(max(dados['sepal width']) - min(dados['sepal width']))"
   ]
  },
  {
   "cell_type": "code",
   "execution_count": 9,
   "metadata": {},
   "outputs": [],
   "source": [
    "# dados['petal length'] = (dados['petal length'] - min(dados['petal length']))/(max(dados['petal length']) - min(dados['petal length']))"
   ]
  },
  {
   "cell_type": "code",
   "execution_count": 10,
   "metadata": {},
   "outputs": [],
   "source": [
    "# dados['petal width'] = (dados['petal width'] - min(dados['petal width']))/(max(dados['petal width']) - min(dados['petal width']))"
   ]
  },
  {
   "cell_type": "code",
   "execution_count": 11,
   "metadata": {},
   "outputs": [],
   "source": [
    "# dados.head()"
   ]
  },
  {
   "cell_type": "markdown",
   "metadata": {},
   "source": [
    "# Separação dos dados em treino e teste"
   ]
  },
  {
   "cell_type": "code",
   "execution_count": 12,
   "metadata": {},
   "outputs": [],
   "source": [
    "# x_treino, x_teste, y_treino, y_teste = train_test_split(dados.drop('class',axis=1),dados['class'],test_size=0.25, stratify=dados['class'])"
   ]
  },
  {
   "cell_type": "code",
   "execution_count": 13,
   "metadata": {},
   "outputs": [],
   "source": [
    "# x_treino.shape,x_teste.shape"
   ]
  },
  {
   "cell_type": "markdown",
   "metadata": {},
   "source": [
    "# **KNN Scikit Learn**"
   ]
  },
  {
   "cell_type": "markdown",
   "metadata": {},
   "source": [
    "### Treinamento"
   ]
  },
  {
   "cell_type": "code",
   "execution_count": 14,
   "metadata": {},
   "outputs": [],
   "source": [
    "# K = 1"
   ]
  },
  {
   "cell_type": "code",
   "execution_count": 15,
   "metadata": {},
   "outputs": [],
   "source": [
    "# modelo = KNeighborsClassifier(n_neighbors=K, weights='uniform')"
   ]
  },
  {
   "cell_type": "code",
   "execution_count": 16,
   "metadata": {},
   "outputs": [],
   "source": [
    "# modelo.fit(x_treino, y_treino)"
   ]
  },
  {
   "cell_type": "markdown",
   "metadata": {},
   "source": [
    "### Teste"
   ]
  },
  {
   "cell_type": "code",
   "execution_count": 17,
   "metadata": {},
   "outputs": [],
   "source": [
    "# y_modelo = modelo.predict(x_teste)"
   ]
  },
  {
   "cell_type": "markdown",
   "metadata": {},
   "source": [
    "### Acurácia"
   ]
  },
  {
   "cell_type": "code",
   "execution_count": 18,
   "metadata": {},
   "outputs": [],
   "source": [
    "# acuracia = accuracy_score(y_modelo, y_teste)"
   ]
  },
  {
   "cell_type": "code",
   "execution_count": 19,
   "metadata": {},
   "outputs": [],
   "source": [
    "# acuracia"
   ]
  },
  {
   "cell_type": "markdown",
   "metadata": {},
   "source": [
    "# **KNN Proprio**"
   ]
  },
  {
   "cell_type": "code",
   "execution_count": 20,
   "metadata": {},
   "outputs": [],
   "source": [
    "# tamanho_treino = len(x_treino)"
   ]
  },
  {
   "cell_type": "code",
   "execution_count": 21,
   "metadata": {},
   "outputs": [],
   "source": [
    "# x_treino.head()"
   ]
  },
  {
   "cell_type": "code",
   "execution_count": 22,
   "metadata": {},
   "outputs": [],
   "source": [
    "# y_treino.head()"
   ]
  },
  {
   "cell_type": "code",
   "execution_count": 23,
   "metadata": {},
   "outputs": [],
   "source": [
    "# def classe_modelo(numero):\n",
    "#   if numero == 0:\n",
    "#     return 'Iris-setosa'\n",
    "#   elif numero == 2:\n",
    "#     return 'Iris-virginica'\n",
    "#   else:\n",
    "#     return 'Iris-versicolor'"
   ]
  },
  {
   "cell_type": "code",
   "execution_count": 24,
   "metadata": {},
   "outputs": [],
   "source": [
    "# from scipy.spatial import distance\n",
    "\n",
    "# y_modelo = []\n",
    "# for indice_teste in x_teste.index:\n",
    "#   dists = {}\n",
    "#   ind = 0\n",
    "#   for indice_treino in x_treino.index:\n",
    "#     d = distance.euclidean(x_treino.loc[indice_treino],x_teste.loc[indice_teste])\n",
    "#     dists[ind] = [d,indice_treino]\n",
    "#     ind+=1\n",
    "#   k_vizinhos = sorted(dists, key= dists.get)[:K]\n",
    "\n",
    "#   indice_vizinhos = []\n",
    "#   for j in k_vizinhos:\n",
    "#     indice_vizinhos.append(dists[j][1])\n",
    "\n",
    "#   qtd_set = 0\n",
    "#   qtd_vers = 0\n",
    "#   qtd_virg = 0\n",
    "#   for ind_vizinho in indice_vizinhos:\n",
    "#     # print(y_treino.loc[ind_vizinho])\n",
    "#     if y_treino.loc[ind_vizinho] == 'Iris-setosa':\n",
    "#       qtd_set += 1\n",
    "#     elif y_treino.loc[ind_vizinho] == 'Iris-versicolor':\n",
    "#       qtd_vers += 1\n",
    "#     else:\n",
    "#       qtd_virg += 1\n",
    "#     #print(dists[ind_vizinho])\n",
    "#   a=[qtd_set, qtd_vers, qtd_virg]\n",
    "#   num = a.index(max(a))\n",
    "#   y_modelo.append(classe_modelo(num))\n",
    "# print(y_teste)\n",
    "# print(y_modelo)"
   ]
  },
  {
   "cell_type": "code",
   "execution_count": 25,
   "metadata": {},
   "outputs": [],
   "source": [
    "# ind = 0\n",
    "# qtd_acertos = 0\n",
    "# print(len(y_teste))\n",
    "# for i in y_teste:\n",
    "#   print(i, y_modelo[ind])\n",
    "#   if y_modelo[ind] == i:\n",
    "#     qtd_acertos += 1\n",
    "#     # print(\"Igual\")\n",
    "#   # else:\n",
    "#   #   print(\"Diferente\")\n",
    "#   ind += 1\n",
    "# print(qtd_acertos)\n",
    "# acuracia_knnProprio = (qtd_acertos / len(y_teste))*100\n",
    "# print(acuracia_knnProprio)"
   ]
  }
 ],
 "metadata": {
  "kernelspec": {
   "display_name": "Python 3.9.2 64-bit",
   "language": "python",
   "name": "python3"
  },
  "language_info": {
   "codemirror_mode": {
    "name": "ipython",
    "version": 3
   },
   "file_extension": ".py",
   "mimetype": "text/x-python",
   "name": "python",
   "nbconvert_exporter": "python",
   "pygments_lexer": "ipython3",
   "version": "3.9.2"
  },
  "orig_nbformat": 4,
  "vscode": {
   "interpreter": {
    "hash": "916dbcbb3f70747c44a77c7bcd40155683ae19c65e1c03b4aa3499c5328201f1"
   }
  }
 },
 "nbformat": 4,
 "nbformat_minor": 2
}
